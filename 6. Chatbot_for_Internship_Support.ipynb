{
 "cells": [
  {
   "cell_type": "code",
   "execution_count": 1,
   "id": "4a3deb42-a547-4e9f-ac81-4492800efcbf",
   "metadata": {},
   "outputs": [
    {
     "name": "stdout",
     "output_type": "stream",
     "text": [
      " Internship Support Chatbot (type 'quit' to stop)\n",
      "\n"
     ]
    },
    {
     "name": "stdin",
     "output_type": "stream",
     "text": [
      "You:  What documents do I need for internship application?\n"
     ]
    },
    {
     "name": "stdout",
     "output_type": "stream",
     "text": [
      "Bot: Required documents include your resume, cover letter, academic transcript, and recommendation letters (if required).\n"
     ]
    },
    {
     "name": "stdin",
     "output_type": "stream",
     "text": [
      "You:  Can internships lead to full-time jobs?\n"
     ]
    },
    {
     "name": "stdout",
     "output_type": "stream",
     "text": [
      "Bot: Yes, many interns receive full-time job offers based on performance, cultural fit, and business needs.\n"
     ]
    },
    {
     "name": "stdin",
     "output_type": "stream",
     "text": [
      "You:  What about work-life balance during thinternship?What about work-life balance during the internship?\n"
     ]
    },
    {
     "name": "stdout",
     "output_type": "stream",
     "text": [
      "Bot: Interns usually work standard hours (9–5) with flexibility for exams, health, or personal needs.\n"
     ]
    },
    {
     "name": "stdin",
     "output_type": "stream",
     "text": [
      "You:  bye\n"
     ]
    },
    {
     "name": "stdout",
     "output_type": "stream",
     "text": [
      "Bot: Thank you! Good luck with your internship.\n"
     ]
    }
   ],
   "source": [
    "import re\n",
    "import numpy as np\n",
    "from sklearn.feature_extraction.text import TfidfVectorizer\n",
    "from sklearn.metrics.pairwise import cosine_similarity\n",
    "\n",
    "class InternshipChatbot:\n",
    "    def __init__(self):\n",
    "        # Extended FAQ dataset\n",
    "        self.faq_data = [\n",
    "            {\"question\": \"How do I apply for an internship?\",\n",
    "             \"answer\": \"You can apply by visiting our official website, creating an account, and submitting your resume and cover letter before the deadline.\"},\n",
    "\n",
    "            {\"question\": \"What documents do I need for internship application?\",\n",
    "             \"answer\": \"Required documents include your resume, cover letter, academic transcript, and recommendation letters (if required).\"},\n",
    "\n",
    "            {\"question\": \"Are internships paid?\",\n",
    "             \"answer\": \"Yes, most of our internships are paid, but benefits may vary depending on the program.\"},\n",
    "\n",
    "            {\"question\": \"Can I work remotely as an intern?\",\n",
    "             \"answer\": \"Yes! We offer remote, hybrid, and on-site internships depending on the role.\"},\n",
    "\n",
    "            {\"question\": \"What training will I receive?\",\n",
    "             \"answer\": \"You’ll receive orientation, mentorship, technical skill workshops, and access to online learning resources.\"},\n",
    "\n",
    "            {\"question\": \"What kind of projects will I work on?\",\n",
    "             \"answer\": \"Interns work on real-world projects like research, product development, data analysis, and client solutions.\"},\n",
    "\n",
    "            {\"question\": \"How long do internships last?\",\n",
    "             \"answer\": \"Internships typically last 8–12 weeks for summer programs and 14–16 weeks during academic semesters.\"},\n",
    "\n",
    "            {\"question\": \"Can internships lead to full-time jobs?\",\n",
    "             \"answer\": \"Yes, many interns receive full-time job offers based on performance, cultural fit, and business needs.\"},\n",
    "\n",
    "            {\"question\": \"What support is available for interns?\",\n",
    "             \"answer\": \"Interns receive mentorship, supervisor guidance, career resources, and access to networking opportunities.\"},\n",
    "\n",
    "            {\"question\": \"When should I apply for internships?\",\n",
    "             \"answer\": \"Summer internship applications usually open 6–8 months before start dates. Apply early as spots fill quickly.\"},\n",
    "\n",
    "            {\"question\": \"Do I need prior experience for internships?\",\n",
    "             \"answer\": \"No, internships are designed for students and fresh graduates. Prior experience is helpful but not mandatory.\"},\n",
    "\n",
    "            {\"question\": \"Will I receive a certificate after completing the internship?\",\n",
    "             \"answer\": \"Yes, interns receive a certificate of completion that highlights your contributions and duration.\"},\n",
    "\n",
    "            {\"question\": \"Can I connect with other interns and employees?\",\n",
    "             \"answer\": \"Yes! Networking is encouraged through intern activities, mentorship programs, and company events.\"},\n",
    "\n",
    "            {\"question\": \"What about work-life balance during the internship?\",\n",
    "             \"answer\": \"Interns usually work standard hours (9–5) with flexibility for exams, health, or personal needs.\"}\n",
    "        ]\n",
    "\n",
    "        # Prepare data for similarity search\n",
    "        self.questions = [item[\"question\"] for item in self.faq_data]\n",
    "        self.answers = [item[\"answer\"] for item in self.faq_data]\n",
    "\n",
    "        self.vectorizer = TfidfVectorizer(stop_words=\"english\")\n",
    "        self.question_matrix = self.vectorizer.fit_transform(self.questions)\n",
    "\n",
    "    def get_answer(self, user_query):\n",
    "        user_query = user_query.strip()\n",
    "        if not user_query:\n",
    "            return \"Please type your question about internships.\"\n",
    "\n",
    "        # Convert query into vector\n",
    "        query_vec = self.vectorizer.transform([user_query])\n",
    "\n",
    "        # Compute similarity with stored questions\n",
    "        similarities = cosine_similarity(query_vec, self.question_matrix)[0]\n",
    "\n",
    "        # Find best match\n",
    "        best_idx = np.argmax(similarities)\n",
    "        best_score = similarities[best_idx]\n",
    "\n",
    "        if best_score < 0.2:  # threshold for low similarity\n",
    "            return \"Sorry, I don’t have an exact answer for that. Try asking about application, documents, pay, projects, or training.\"\n",
    "\n",
    "        return self.answers[best_idx]\n",
    "\n",
    "# Run chatbot in notebook\n",
    "chatbot = InternshipChatbot()\n",
    "\n",
    "print(\" Internship Support Chatbot (type 'quit' to stop)\\n\")\n",
    "\n",
    "while True:\n",
    "    user_input = input(\"You: \")\n",
    "    if user_input.lower() in [\"quit\", \"exit\", \"bye\"]:\n",
    "        print(\"Bot: Thank you! Good luck with your internship.\")\n",
    "        break\n",
    "    response = chatbot.get_answer(user_input)\n",
    "    print(\"Bot:\", response)\n"
   ]
  },
  {
   "cell_type": "code",
   "execution_count": null,
   "id": "5c5d2744-c919-4873-8dea-854837bab796",
   "metadata": {},
   "outputs": [],
   "source": []
  }
 ],
 "metadata": {
  "kernelspec": {
   "display_name": "Python [conda env:base] *",
   "language": "python",
   "name": "conda-base-py"
  },
  "language_info": {
   "codemirror_mode": {
    "name": "ipython",
    "version": 3
   },
   "file_extension": ".py",
   "mimetype": "text/x-python",
   "name": "python",
   "nbconvert_exporter": "python",
   "pygments_lexer": "ipython3",
   "version": "3.12.3"
  }
 },
 "nbformat": 4,
 "nbformat_minor": 5
}
